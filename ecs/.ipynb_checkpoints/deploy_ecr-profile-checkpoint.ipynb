{
 "cells": [
  {
   "cell_type": "code",
   "execution_count": null,
   "id": "91fa50b3",
   "metadata": {
    "is_executing": true
   },
   "outputs": [],
   "source": [
    "import os"
   ]
  },
  {
   "cell_type": "code",
   "execution_count": null,
   "id": "f9a0a7f5",
   "metadata": {
    "ExecuteTime": {
     "end_time": "2024-02-27T00:41:20.199799Z",
     "start_time": "2024-02-27T00:41:20.186875Z"
    }
   },
   "outputs": [],
   "source": [
    "os.system('pwd')"
   ]
  },
  {
   "cell_type": "code",
   "execution_count": null,
   "id": "a393c126",
   "metadata": {
    "ExecuteTime": {
     "end_time": "2024-02-27T00:41:20.919143Z",
     "start_time": "2024-02-27T00:41:20.892750Z"
    }
   },
   "outputs": [],
   "source": [
    "os.system('chmod 755 deploy_ecr-profile.sh')\n"
   ]
  },
  {
   "cell_type": "code",
   "execution_count": null,
   "id": "f9cda843",
   "metadata": {},
   "outputs": [],
   "source": [
    "print(f\"./deploy_ecr-profile.sh {profile} {region} {user}\")"
   ]
  },
  {
   "cell_type": "code",
   "execution_count": null,
   "id": "c3239b2e",
   "metadata": {},
   "outputs": [],
   "source": [
    "os.system(f\"./deploy_ecr-profile.sh {profile} {region} {user}\")"
   ]
  },
  {
   "cell_type": "code",
   "execution_count": null,
   "id": "4c97be51",
   "metadata": {},
   "outputs": [],
   "source": []
  }
 ],
 "metadata": {
  "kernelspec": {
   "display_name": "Python 3 (ipykernel)",
   "language": "python",
   "name": "python3"
  },
  "language_info": {
   "codemirror_mode": {
    "name": "ipython",
    "version": 3
   },
   "file_extension": ".py",
   "mimetype": "text/x-python",
   "name": "python",
   "nbconvert_exporter": "python",
   "pygments_lexer": "ipython3",
   "version": "3.8.18"
  }
 },
 "nbformat": 4,
 "nbformat_minor": 5
}
